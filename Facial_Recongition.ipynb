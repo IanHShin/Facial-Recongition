{
  "nbformat": 4,
  "nbformat_minor": 0,
  "metadata": {
    "colab": {
      "name": "Facial Recongition.ipynb",
      "provenance": []
    },
    "kernelspec": {
      "name": "python3",
      "display_name": "Python 3"
    }
  },
  "cells": [
    {
      "cell_type": "code",
      "metadata": {
        "id": "43gCkU1vo4_G"
      },
      "source": [
        "import numpy as np\n",
        "from numpy import *\n",
        "import cv2  \n",
        "import matplotlib.pyplot as plt\n",
        "import dlib\n",
        "from google.colab.patches import cv2_imshow\n",
        "from PIL import Image,ImageDraw\n",
        "from google.colab import drive, files\n",
        "import glob\n",
        "import pandas as pd"
      ],
      "execution_count": null,
      "outputs": []
    },
    {
      "cell_type": "code",
      "metadata": {
        "id": "qHXcAZ_WpOip"
      },
      "source": [
        "from google.colab import drive\n",
        "drive.mount('/content/drive')"
      ],
      "execution_count": null,
      "outputs": []
    },
    {
      "cell_type": "markdown",
      "metadata": {
        "id": "utU4yF2QUukX"
      },
      "source": [
        "# Pre-Processing stage:\n",
        "We need to add a reference image for every new photo. This will allow us to find measurements\n"
      ]
    },
    {
      "cell_type": "code",
      "metadata": {
        "id": "f3CNI60MUuWj"
      },
      "source": [
        "im1 = Image.open('/content/Carnival.jpg')\n",
        "#im2 = Image.open('/content/square.png')\n",
        "#im3 = Image.Image.paste(im1,im2)\n",
        "\n",
        "plt.figure(figsize = (20,20))\n",
        "plt.imshow(im1)\n",
        "#im1.save(\"TESTING.jpg\")"
      ],
      "execution_count": null,
      "outputs": []
    },
    {
      "cell_type": "code",
      "metadata": {
        "id": "1BG-Orr0o5YF"
      },
      "source": [
        "face_cascade = cv2.CascadeClassifier('haarcascade_frontalface_default.xml')\n",
        "img = cv2.imread('/content/Online.jpg')\n",
        "\n",
        "grey = cv2.cvtColor(img, cv2.COLOR_BGR2GRAY)#convert image to grey scale \n",
        "\n",
        "faces = face_cascade.detectMultiScale(grey, 1.5, 8) #This is the algo that detects the face.\n",
        "#Takes 3 inputs, img, scaleFactor, and minNeighbors\n",
        "\n",
        "print(faces) #This outputs coordinates where the face was actually found\n",
        "\n",
        "for (x,y,w,h) in faces:\n",
        "    cv2.rectangle(img,(x,y),(x+w,y+h),(0,255,0),2) #Draws rectangle on any image. \n",
        "    roigray = grey[y:y+h, x:x+w]\n",
        "    roicolor = img[y:y+h, x:x+w]\n",
        "\n",
        "\n",
        "plt.figure(figsize = (20,20))\n",
        "plt.imshow(img),\n",
        "\n"
      ],
      "execution_count": null,
      "outputs": []
    },
    {
      "cell_type": "code",
      "metadata": {
        "id": "0Nh1_23hEBkb"
      },
      "source": [
        "detector = dlib.get_frontal_face_detector()\n",
        "predictor = dlib.shape_predictor(\"/content/shape_predictor_68_face_landmarks (2).dat\")\n",
        "img = cv2.imread('/content/Adrien Brody.jpg', 1)\n",
        "\n",
        "# convert to grayscale\n",
        "img_gray = cv2.cvtColor(img, cv2.COLOR_BGR2GRAY)\n",
        "\n",
        "# detect faces in the image\n",
        "faces_in_image = detector(img_gray, 0)\n",
        "for face in faces_in_image:\n",
        "\n",
        "\t# assign the facial landmarks\n",
        "\tlandmarks = predictor(img_gray, face)\n",
        "\n",
        "\t# unpack the 68 landmark coordinates from the dlib object into a list \n",
        "\tlandmarks_list = []\n",
        "\tfor i in range(0, landmarks.num_parts):\n",
        "\t\tlandmarks_list.append((landmarks.part(i).x, landmarks.part(i).y))\n",
        "\n",
        "\n",
        "\t# for each landmark, plot and write number\n",
        "\tfor landmark_num, xy in enumerate(landmarks_list, start = 1):\n",
        "\t\tcv2.circle(img, (xy[0], xy[1]), 1, (168, 0, 20), -1)\n",
        "\t\tcv2.putText(img, str(landmark_num),(xy[0]-7,xy[1]+5), cv2.FONT_HERSHEY_SIMPLEX, 0.4,(255,255,255), 1)\n",
        "\n",
        "\n",
        "coord = (dict(list(enumerate(landmarks_list,start =1))))\n",
        "\n",
        "coord1= (list(coord.values()))\n",
        "n = [20,25]\n",
        "\n",
        "for i in n:\n",
        "\tprint(i,coord1[i])\n",
        "\n",
        "plt.figure(figsize = (20,20))\n",
        "plt.imshow(img)\n"
      ],
      "execution_count": null,
      "outputs": []
    },
    {
      "cell_type": "code",
      "metadata": {
        "id": "9ZQbwR4FYTLY"
      },
      "source": [
        "Z = []\n",
        "maps = []\n",
        "cord = ((list(enumerate(landmarks_list,start =0))))\n",
        "\n",
        "d_coord = (dict(list(enumerate(landmarks_list,start =0))))\n",
        "for i in range(len(coord1)):\n",
        "  Z.append(cord[i][0])\n",
        "\n",
        "\n",
        "for x in range(0,len(landmarks_list)):\n",
        "  maps.append(d_coord[x])\n",
        "\n",
        "x,y = np.array(maps).T\n",
        "\n",
        "fig,ax = plt.subplots(figsize = (10,10))\n",
        "ax.plot(x,y, \"-o\", color = 'red')\n",
        "plt.gca().invert_yaxis()\n",
        "for i, txt in enumerate(Z):\n",
        "  ax.annotate(txt, (x[i], y[i]))\n",
        "\n",
        "vp = [0,16,4,12,19,24,36,45,38,43,]\n",
        "sp = []\n",
        "\n",
        "for x in vp:\n",
        "  sp.append(d_coord[x])\n",
        "\n",
        "x1,y1 = np.array(sp).T\n",
        "ax.scatter(x1,y1,100,color = \"blue\")\n",
        "\n",
        "d1 = []\n",
        "d2 = []\n",
        "\n",
        "vp1 = [[0,16],[4,2],[20,25],[36,45],[40,43]]\n",
        "for x in vp1:\n",
        "  d1.append(d_coord[x[0]])\n",
        "  d2.append(d_coord[x[1]])  \n",
        "\n",
        "diff = []\n",
        "for x in range(len(d1)):\n",
        "  res = tuple(map(lambda i, j: abs(i-j), d1[x],d2[x]))\n",
        "  diff.append(res)\n",
        "\n",
        "print(diff)\n"
      ],
      "execution_count": null,
      "outputs": []
    },
    {
      "cell_type": "code",
      "metadata": {
        "id": "14--hMNq2xhw",
        "outputId": "05e918a0-b181-44e7-f08f-d8bcc079b210",
        "colab": {
          "base_uri": "https://localhost:8080/",
          "height": 610
        }
      },
      "source": [
        "detector = dlib.get_frontal_face_detector()\n",
        "predictor = dlib.shape_predictor(\"/content/shape_predictor_68_face_landmarks (2).dat\")\n",
        "\n",
        "img = cv2.imread(\"/content/jessica4-a.jpg\")\n",
        "\n",
        "# convert to grayscale\n",
        "img_gray = cv2.cvtColor(img, cv2.COLOR_BGR2GRAY)\n",
        "\n",
        "# detect faces in the image\n",
        "faces_in_image = detector(img_gray, 0)\n",
        "for face in faces_in_image:\n",
        "\t\n",
        "\n",
        "\t# assign the facial landmarks\n",
        "\tlandmarks = predictor(img_gray, face)\n",
        "\n",
        "\t# unpack the 68 landmark coordinates from the dlib object into a list \n",
        "\tlandmarks_list = []\n",
        "\tfor i in range(0, landmarks.num_parts):\n",
        "\t\tlandmarks_list.append((landmarks.part(i).x, landmarks.part(i).y))\n",
        "\n",
        "\n",
        "\t# for each landmark, plot and write number\n",
        "\tfor landmark_num, xy in enumerate(landmarks_list, start = 1):\n",
        "\t\tcv2.circle(img, (xy[0], xy[1]), 1, (168, 0, 20), -1)\n",
        "\t\tcv2.putText(img, str(landmark_num),(xy[0]-7,xy[1]+5), cv2.FONT_HERSHEY_SIMPLEX, 0.4,(255,255,255), 1)\n",
        "\n",
        "\n",
        "coord = (dict(list(enumerate(landmarks_list,start =1))))\n",
        "\n",
        "coord1= (list(coord.values()))\n",
        "\n",
        "Z = []\n",
        "maps = []\n",
        "cord = ((list(enumerate(landmarks_list,start =0))))\n",
        "\n",
        "d_coord = (dict(list(enumerate(landmarks_list,start =0))))\n",
        "for i in range(len(coord1)):\n",
        "\tZ.append(cord[i][0])\n",
        "\n",
        "\n",
        "for x in range(0,len(landmarks_list)):\n",
        "\tmaps.append(d_coord[x])\n",
        "\n",
        "x,y = np.array(maps).T\n",
        "\n",
        "fig,ax = plt.subplots(figsize = (10,10))\n",
        "ax.plot(x,y, \"-o\", color = 'red')\n",
        "plt.gca().invert_yaxis()\n",
        "for i, txt in enumerate(Z):\n",
        "\tax.annotate(txt, (x[i], y[i]))\n",
        "\n",
        "vp = [0,16,4,12,19,24,36,45,39,42,48,54]\n",
        "sp = []\n",
        "\n",
        "for x in vp:\n",
        "\tsp.append(d_coord[x])\n",
        "\n",
        "x1,y1 = np.array(sp).T\n",
        "ax.scatter(x1,y1,100,color = \"blue\")\n",
        "\n",
        "d1 = []\n",
        "d2 = []\n",
        "\n",
        "vp1 = [[0,16],[4,12],[19,24],[36,45],[39,42],[48,54]]\n",
        "for x in vp1:\n",
        "\td1.append(d_coord[x[0]])\n",
        "\td2.append(d_coord[x[1]])  \n",
        "\n",
        "diff = []\n",
        "for x in range(len(d1)):\n",
        "\tres = tuple(map(lambda i, j: abs(i-j), d1[x],d2[x]))\n",
        "\tdiff.append(res)\n",
        "print(diff)\n"
      ],
      "execution_count": null,
      "outputs": [
        {
          "output_type": "stream",
          "text": [
            "[(218, 13), (176, 9), (122, 9), (139, 7), (60, 3), (75, 4)]\n"
          ],
          "name": "stdout"
        },
        {
          "output_type": "display_data",
          "data": {
            "image/png": "[encoded data removed]",
            "text/plain": [
              "<Figure size 720x720 with 1 Axes>"
            ]
          },
          "metadata": {
            "tags": [],
            "needs_background": "light"
          }
        }
      ]
    },
    {
      "cell_type": "code",
      "metadata": {
        "id": "1QB5LwClSdIk"
      },
      "source": [
        "detector = dlib.get_frontal_face_detector()\n",
        "predictor = dlib.shape_predictor(\"/content/shape_predictor_68_face_landmarks (2).dat\")\n",
        "\n",
        "img = [cv2.imread(file) for file in glob.glob(\"/content/drive/My Drive/Faces/*.jpg\")]\n",
        "faces_in_image =[]\n",
        "diff = []\n",
        "for fn in img:\n",
        "  img_gray = cv2.cvtColor((fn), cv2.COLOR_BGR2GRAY)\n",
        "  faces_in_image.append(detector(img_gray, 0))\n",
        "  \n",
        "  for face in faces_in_image:\n",
        "    landmarks = predictor(img_gray, face[0])\n",
        "\n",
        "    # unpack the 68 landmark coordinates from the dlib object into a list \n",
        "    landmarks_list = []\n",
        "    for i in range(0, landmarks.num_parts):\n",
        "      landmarks_list.append((landmarks.part(i).x, landmarks.part(i).y))\n",
        "\n",
        "\n",
        "    # for each landmark, plot and write number\n",
        "    for landmark_num, xy in enumerate(landmarks_list, start = 1):\n",
        "\n",
        "      cv2.circle(fn, (xy[0], xy[1]), 1, (168, 0, 20), -1)\n",
        "      cv2.putText(fn, str(landmark_num),(xy[0]-7,xy[1]+5), cv2.FONT_HERSHEY_SIMPLEX, 0.4,(255,255,255), 1)\n",
        "\n",
        "\n",
        "  coord = (dict(list(enumerate(landmarks_list,start =1))))\n",
        "  coord1= (list(coord.values()))\n",
        "\n",
        "  Z = []\n",
        "  maps = []\n",
        "  cord = ((list(enumerate(landmarks_list,start =0))))\n",
        "\n",
        "  d_coord = (dict(list(enumerate(landmarks_list,start =0))))\n",
        "  for i in range(len(coord1)):\n",
        "    Z.append(cord[i][0])\n",
        "\n",
        "\n",
        "  for x in range(0,len(landmarks_list)):\n",
        "    maps.append(d_coord[x])\n",
        "\n",
        "  x,y = np.array(maps).T\n",
        "\n",
        "  '''fig,ax = plt.subplots(figsize = (10,10))\n",
        "  ax.plot(x,y, \"-o\", color = 'red')\n",
        "  plt.gca().invert_yaxis()\n",
        "  for i, txt in enumerate(Z):\n",
        "    ax.annotate(txt, (x[i], y[i]))'''\n",
        "\n",
        "  vp = [0,16,4,12,19,24,36,45,39,42,48,54]\n",
        "  sp = []\n",
        "\n",
        "  for x in vp:\n",
        "    sp.append(d_coord[x])\n",
        "\n",
        "  '''x1,y1 = np.array(sp).T\n",
        "  ax.scatter(x1,y1,100,color = \"blue\")'''\n",
        "\n",
        "  d1 = []\n",
        "  d2 = []\n",
        "\n",
        "  vp1 = [[0,16],[4,12],[19,24],[36,45],[39,42],[48,54]]\n",
        "  for x in vp1:\n",
        "    d1.append(d_coord[x[0]])\n",
        "    d2.append(d_coord[x[1]])  \n",
        "\n",
        "\n",
        "  for x in range(len(d1)):\n",
        "    res = tuple(map(lambda i, j: abs(i-j), d1[x],d2[x]))\n",
        "    diff.append(res)\n",
        "\n",
        "\n",
        "\n",
        "df1 = pd.DataFrame(diff,columns=['X','Y'])\n",
        "'''df = df1.rename(index = {0: \"WOF\",\n",
        "                         1: \"WOJ\",\n",
        "                         2: 'WOEB',\n",
        "                         3: 'WOE',\n",
        "                         4: 'WOTD',\n",
        "                         5: \"WOM\"} )'''\n",
        "\n",
        "\n",
        "\n",
        "print(df1.head(21))\n",
        "\n"
      ],
      "execution_count": null,
      "outputs": []
    },
    {
      "cell_type": "code",
      "metadata": {
        "id": "3qd1nCfJG3I9"
      },
      "source": [
        "coord = dict(list(enumerate(landmarks_list)))\n",
        "\n",
        "\n",
        "key = []\n",
        "ratio_dict = {\n",
        "    \"Middle Eye\": (abs(abs(coord[42][0]-coord[45][0])/2)-(abs(coord[38][0]-coord[39][0])/2))\n",
        "    \"Mouth Width\": abs(coord[48][0]-coord[54][0]),\n",
        "    \"Nose Width\": abs(coord[31][0]-coord[35][0]),\n",
        "    \"Interocular Distance\": abs(coord[39][0]-coord[42][0]),\n",
        "    \"Lip Chin\" : abs(coord[62][0]-coord[8][0]),  \n",
        "    #\"Eye Fissure Width\": [(coord[42],coord[45]),(coord[36],coord[39])],\n",
        "    \"Lip Height\": abs(coord[57][1]-coord[51][1]),\n",
        "    \"Face Width\": abs(coord[0][0]-coord[78][0]),\n",
        "    \"Nose to Lip\": abs(coord[33][1]-coord[62][1]),\n",
        "    \"Nose to Chin\": abs(coord[33][1]-coord[8][1]),\n",
        "    \"Width of Lip\": abs(coord[48][0]-coord[64][0]),\n",
        "}\n",
        "\n",
        "\n",
        "def fin_ratio(s,num,deno):\n",
        "  return(s,(num/deno))\n",
        "\n",
        "print(\"Tom Brady\")\n",
        "print(fin_ratio(\"Middle Eye to Interocular Width\", ratio_dict[\"Middle Eye\"], ratio_dict[\"Interocular Distance\"]))\n",
        "print(fin_ratio(\"Middle Eye to Nose Width\", ratio_dict[\"Middle Eye\"], ratio_dict[\"Nose Width\"]))\n",
        "print(fin_ratio(\"Mouth width to Interocular Width\", ratio_dict[\"Mouth Width\"], ratio_dict[\"Interocular Distance\"]))\n",
        "\n",
        "print(fin_ratio(\"Lip Chin to Interocular\", ratio_dict[\"Lip Chin\"], ratio_dict[\"Interocular Distance\"]))\n",
        "print(fin_ratio(\"Lip chin to Nose Width\", ratio_dict[\"Lip Chin\"], ratio_dict[\"Nose Width\"]))\n",
        "\n",
        "print(fin_ratio(\"Interocular dstance to lip height\", ratio_dict[\"Interocular Distance\"], ratio_dict[\"Lip Height\"]))\n",
        "print(fin_ratio(\"Nose width to lip height\", ratio_dict[\"Nose Width\"], ratio_dict[\"Lip Height\"]))\n",
        "print(fin_ratio(\"Lip height to nose-mouth distance\", ratio_dict[\"Lip Height\"], ratio_dict[\"Nose to Lip\"]))\n",
        "print(fin_ratio(\"Nose width to nose-mouth distance\", ratio_dict[\"Nose Width\"], ratio_dict[\"Nose to Lip\"]))\n",
        "print(fin_ratio(\"Mouth width to nose width\", ratio_dict[\"Mouth Width\"], ratio_dict[\"Nose Width\"]))\n",
        "print(fin_ratio(\"Interocular dstance to nose width\", ratio_dict[\"Interocular Distance\"], ratio_dict[\"Nose Width\"]))\n",
        "\n",
        "\n",
        "\n",
        "\n"
      ],
      "execution_count": null,
      "outputs": []
    },
    {
      "cell_type": "code",
      "metadata": {
        "id": "rwqSFIjIHyXw"
      },
      "source": [
        ""
      ],
      "execution_count": null,
      "outputs": []
    }
  ]
}